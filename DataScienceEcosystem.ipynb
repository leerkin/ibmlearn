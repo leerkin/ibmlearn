{
 "cells": [
  {
   "cell_type": "markdown",
   "id": "440645bb-9377-4cf5-93a8-3d9bfa76eed5",
   "metadata": {},
   "source": [
    "# Data Science Tools and Ecosystem"
   ]
  },
  {
   "cell_type": "markdown",
   "id": "daea8630-db30-48ef-b18a-4d59d57c3302",
   "metadata": {},
   "source": [
    "In this notebook, Data Science Tools and Ecosystem are summarized."
   ]
  },
  {
   "cell_type": "markdown",
   "id": "637b60ce-cce6-48a9-9955-31d3b15e6980",
   "metadata": {},
   "source": [
    "**Objectives:**\n",
    "* List some of the popular languages that Data Scientists use\n",
    "* List some of commonly used by Data Scientists libraries\n",
    "* List a few examples of evaluating arithmetic expressions in Python"
   ]
  },
  {
   "cell_type": "markdown",
   "id": "428eb413-8ea9-4052-969b-0ee4bec9bc32",
   "metadata": {},
   "source": [
    "Some of the popular languages that Data Scientists use are:\n",
    "1. Python\n",
    "2. R\n",
    "3. Julia\n",
    "4. Scala\n",
    "5. JavaScript"
   ]
  },
  {
   "cell_type": "markdown",
   "id": "7a733ee7-d9f0-4213-a16c-4f9fb2e3dfbf",
   "metadata": {},
   "source": [
    "Some of the commonly used by Data Scientists libraries include:\n",
    "1. NumPy\n",
    "2. TensorFlow\n",
    "3. SciPi\n",
    "4. ggplot"
   ]
  },
  {
   "cell_type": "markdown",
   "id": "59b74727-5aca-4335-85ed-ad631f7201de",
   "metadata": {},
   "source": [
    "|**Data Science Tool**|\n",
    "-----------------------\n",
    "|Jupyter Notebook|\n",
    "|RStudio|\n",
    "|Spyder|"
   ]
  },
  {
   "cell_type": "markdown",
   "id": "c473ff37-7894-46ec-8bb2-29874204c4f3",
   "metadata": {},
   "source": [
    "### Below are a few examples of evaluating arithmetic expressions in Python"
   ]
  },
  {
   "cell_type": "markdown",
   "id": "d549f501-c06d-4441-b094-4db1237d605f",
   "metadata": {},
   "source": [
    "This a simple arithmetic expression to mutiply then add integers."
   ]
  },
  {
   "cell_type": "code",
   "execution_count": 9,
   "id": "ec79e765-dd8f-46f2-9373-d68a5806e21d",
   "metadata": {},
   "outputs": [
    {
     "data": {
      "text/plain": [
       "17"
      ]
     },
     "execution_count": 9,
     "metadata": {},
     "output_type": "execute_result"
    }
   ],
   "source": [
    "(3*4)+5"
   ]
  },
  {
   "cell_type": "markdown",
   "id": "f1bfb10f-d3c1-4418-808e-0e462b2b8102",
   "metadata": {},
   "source": [
    "This will convert 200 minutes to hours by diving by 60."
   ]
  },
  {
   "cell_type": "code",
   "execution_count": 21,
   "id": "a1709d2c-6e6a-43cc-8aad-11447951b335",
   "metadata": {},
   "outputs": [
    {
     "data": {
      "text/plain": [
       "3.3333333333333335"
      ]
     },
     "execution_count": 21,
     "metadata": {},
     "output_type": "execute_result"
    }
   ],
   "source": [
    "200/60"
   ]
  },
  {
   "cell_type": "markdown",
   "id": "e046996f-4257-4e90-9cbc-a5368b22c3d4",
   "metadata": {},
   "source": [
    "## Author\n",
    "Valeria Volosach"
   ]
  }
 ],
 "metadata": {
  "kernelspec": {
   "display_name": "Python 3 (ipykernel)",
   "language": "python",
   "name": "python3"
  },
  "language_info": {
   "codemirror_mode": {
    "name": "ipython",
    "version": 3
   },
   "file_extension": ".py",
   "mimetype": "text/x-python",
   "name": "python",
   "nbconvert_exporter": "python",
   "pygments_lexer": "ipython3",
   "version": "3.11.6"
  }
 },
 "nbformat": 4,
 "nbformat_minor": 5
}
